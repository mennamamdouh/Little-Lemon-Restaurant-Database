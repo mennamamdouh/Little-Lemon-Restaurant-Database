{
 "cells": [
  {
   "attachments": {},
   "cell_type": "markdown",
   "metadata": {},
   "source": [
    "# This notebook is about creating database clients to help Little Lemon Restaurant #"
   ]
  },
  {
   "attachments": {},
   "cell_type": "markdown",
   "metadata": {},
   "source": [
    "## Importing required libraries ##"
   ]
  },
  {
   "cell_type": "code",
   "execution_count": 1,
   "metadata": {},
   "outputs": [
    {
     "data": {
      "text/plain": [
       "True"
      ]
     },
     "execution_count": 1,
     "metadata": {},
     "output_type": "execute_result"
    }
   ],
   "source": [
    "import mysql.connector as connector\n",
    "\n",
    "import os\n",
    "from dotenv import load_dotenv\n",
    "load_dotenv()"
   ]
  },
  {
   "attachments": {},
   "cell_type": "markdown",
   "metadata": {},
   "source": [
    "## Establish the connection ##"
   ]
  },
  {
   "cell_type": "code",
   "execution_count": 2,
   "metadata": {},
   "outputs": [],
   "source": [
    "ENV_DATABASE_USER = os.getenv(\"DATABASE_USER\")\n",
    "ENV_DATABASE_PASSWORD = os.getenv(\"DATABASE_PASSWORD\")\n",
    "ENV_DATABASE_HOST = os.getenv(\"DATABASE_HOST\")\n",
    "ENV_DATABASE_PORT = os.getenv(\"DATABASE_PORT\")"
   ]
  },
  {
   "cell_type": "code",
   "execution_count": 3,
   "metadata": {},
   "outputs": [],
   "source": [
    "connection = connector.connect(\n",
    "    user = ENV_DATABASE_USER,\n",
    "    password = ENV_DATABASE_PASSWORD,\n",
    "    host = ENV_DATABASE_HOST,\n",
    "    port = ENV_DATABASE_PORT)"
   ]
  },
  {
   "cell_type": "code",
   "execution_count": 4,
   "metadata": {},
   "outputs": [],
   "source": [
    "cursor = connection.cursor()"
   ]
  },
  {
   "cell_type": "code",
   "execution_count": 5,
   "metadata": {},
   "outputs": [],
   "source": [
    "use_database = \"\"\"USE Little_Lemon_DB;\"\"\"\n",
    "cursor.execute(use_database)"
   ]
  },
  {
   "attachments": {},
   "cell_type": "markdown",
   "metadata": {},
   "source": [
    "## Show tables of the database ##"
   ]
  },
  {
   "cell_type": "code",
   "execution_count": 6,
   "metadata": {},
   "outputs": [
    {
     "name": "stdout",
     "output_type": "stream",
     "text": [
      "Table no.  1 :  bookings\n",
      "Table no.  2 :  customers\n",
      "Table no.  3 :  menu\n",
      "Table no.  4 :  orders\n",
      "Table no.  5 :  orders_delivery_status\n",
      "Table no.  6 :  orders_details\n",
      "Table no.  7 :  ordersview\n",
      "Table no.  8 :  staff\n"
     ]
    }
   ],
   "source": [
    "show_tables_query = \"\"\"SHOW TABLES;\"\"\" \n",
    "cursor.execute(show_tables_query)\n",
    "results = cursor.fetchall()\n",
    "\n",
    "for i, result in enumerate(results):\n",
    "    print(\"Table no. \", i+1, \": \", result[0])"
   ]
  },
  {
   "attachments": {},
   "cell_type": "markdown",
   "metadata": {},
   "source": [
    "## Help Little Lemon ##"
   ]
  },
  {
   "attachments": {},
   "cell_type": "markdown",
   "metadata": {},
   "source": [
    "Little Lemon need you to return specific details from your database. They require the full name and contact details for every customer that has placed an order greater than $60 for a promotional campaign. "
   ]
  },
  {
   "cell_type": "code",
   "execution_count": 7,
   "metadata": {},
   "outputs": [
    {
     "name": "stdout",
     "output_type": "stream",
     "text": [
      "Information about customers for the purpose of promotional campaign:\n",
      "Customer no.  1 :  Rabia Mendoza whose contact is ( 0123456789 ) has paid  890 $.\n",
      "Customer no.  2 :  Aayan Chaney whose contact is ( 0129876543 ) has paid  800 $.\n"
     ]
    }
   ],
   "source": [
    "promotional_campaign = \"\"\"\n",
    "    SELECT C.Full_Name, C.Phone_Number, O.Total_Cost\n",
    "    FROM Customers AS C\n",
    "    INNER JOIN Bookings AS B\n",
    "        ON B.Customer_ID = C.Customer_ID\n",
    "    INNER JOIN Orders AS O\n",
    "        ON O.Booking_ID = B.Booking_ID\n",
    "    WHERE O.Total_Cost > 60;\n",
    "\"\"\"\n",
    "\n",
    "cursor.execute(promotional_campaign)\n",
    "\n",
    "results = cursor.fetchall()\n",
    "\n",
    "print(\"Information about customers for the purpose of promotional campaign:\")\n",
    "\n",
    "for i, result in enumerate(results):\n",
    "    print(\"Customer no. \", i+1, \": \", result[0], \"whose contact is (\", result[1], \") has paid \", result[2], \"$.\")"
   ]
  }
 ],
 "metadata": {
  "kernelspec": {
   "display_name": "Python 3",
   "language": "python",
   "name": "python3"
  },
  "language_info": {
   "codemirror_mode": {
    "name": "ipython",
    "version": 3
   },
   "file_extension": ".py",
   "mimetype": "text/x-python",
   "name": "python",
   "nbconvert_exporter": "python",
   "pygments_lexer": "ipython3",
   "version": "3.11.1"
  },
  "orig_nbformat": 4
 },
 "nbformat": 4,
 "nbformat_minor": 2
}
